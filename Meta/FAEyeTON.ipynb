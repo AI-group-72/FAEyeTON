{
  "nbformat": 4,
  "nbformat_minor": 0,
  "metadata": {
    "colab": {
      "provenance": []
    },
    "kernelspec": {
      "name": "python3",
      "display_name": "Python 3"
    },
    "language_info": {
      "name": "python"
    }
  },
  "cells": [
    {
      "cell_type": "markdown",
      "source": [
        "Установка библиотеки"
      ],
      "metadata": {
        "id": "63sHH_S5DJoc"
      }
    },
    {
      "cell_type": "code",
      "execution_count": null,
      "metadata": {
        "id": "k7ye8hjmCtBZ"
      },
      "outputs": [],
      "source": [
        "!pip install eyetrackfatigue\n"
      ]
    },
    {
      "cell_type": "markdown",
      "source": [
        "Работа с библиотекой\n",
        "\n",
        "Сценарий первый: обработка входных данных, полученных от окулографа.\n"
      ],
      "metadata": {
        "id": "51RZ9q66RwvA"
      }
    },
    {
      "cell_type": "code",
      "source": [
        "# подключение необходимых элементов библиотеки\n",
        "from EyeTrackFatigue.Input import read_csv_file\n",
        "from EyeTrackFatigue.Analise.ParsedData import ParsedData\n",
        "\n",
        "section = read_csv_file('P5-23-01-25-crt1-morning.csv') # считывание файла с сырыми данными\n",
        "# тестовые файлы расположенны в репозитории:\n",
        "# выбранный файл необходимо разместить в среде выполнения\n",
        "# https://github.com/AI-group-72/FAEyeTON/tree/main/TestData\n",
        "metrics = ParsedData()\n",
        "metrics.parse(section, 2, 1.0) # разметка данных, второй аргумент - 2 - метод по абсолютному расстоянию, размер области фиксации - 1.0\n",
        "# 0 - по скорости, 1 - по радиусу области фиксации\n",
        "metrics.calc_metrics() # рассчёт характеристик\n",
        "metrics.to_csv('test1_output.csv', 'test') # вывод характеристик"
      ],
      "metadata": {
        "colab": {
          "base_uri": "https://localhost:8080/"
        },
        "id": "P54Nz7rLRzZq",
        "outputId": "d8150b0e-9ad3-410e-8036-5070761ad05a"
      },
      "execution_count": 7,
      "outputs": [
        {
          "output_type": "stream",
          "name": "stdout",
          "text": [
            "Time column: 0 X column: 3 Y column: 4\n",
            "parse...\n",
            "marking fixations...\n",
            "cleaning...\n",
            "Pong = 1918 False Fix = 114\n",
            "composing...\n",
            "computing metrics...\n",
            "fixations...\n",
            "saccades...\n",
            "calculating complete\n",
            "csv file... test\n",
            "forming a row... \n",
            "appending a row...\n",
            "writen\n"
          ]
        }
      ]
    },
    {
      "cell_type": "markdown",
      "source": [
        "Работа с библиотекой\n",
        "\n",
        "Сценарий второй: загрузка ранее обученных моделей, оценка данных"
      ],
      "metadata": {
        "id": "Or-psJuFNhBj"
      }
    },
    {
      "cell_type": "code",
      "source": [
        "import pandas as pd\n",
        "# подключение необходимых элементов библиотеки\n",
        "from EyeTrackFatigue.Evaluate.HybridEval import HybridEval\n",
        "# загрузка данных - взят тестовый пример заранее посчитанных численных характеристик с репозитория\n",
        "# файл необходимо разместить в среде выполнения\n",
        "# https://github.com/AI-group-72/FAEyeTON/tree/main/TestData\n",
        "data = pd.read_csv('dist_1.0.csv', delimiter=';')\n",
        "data.drop(columns=['AU_cat'], inplace=True) # отделение выставленной оценки утомления\n",
        "file_names = data.pop('File') # выделение наименований файлов\n",
        "data.dropna()\n",
        "data = (data - data.mean())/data.std() # нормализация данных\n",
        "\n",
        "model = HybridEval()\n",
        "\n",
        "# обучение моделей (с сохранением)\n",
        "# model.edu(train_X, train_Y, test_X, test_Y, ['Basic', 'MLP', 'RFC', 'DCT']) # 'MLP', 'RFC', 'DCT'\n",
        "# загрузка уже обученных моделей, по названию\n",
        "# файлы с обученными моделями необходимо разместить в среде выполнения, в данном случае взяты из репозитория\n",
        "model.load(['Basic', 'MLP' ]) # выбранны модели Basic -> алгоритмическая оценки и MLP - многослойный перцептрон\n",
        "\n",
        "# оценка точности моделей\n",
        "# print(model.eval(test_X, test_Y))\n",
        "# оценка данных\n",
        "_eval = model.evaluate(data)\n",
        "data_eval = pd.DataFrame({'Eval' : _eval})\n",
        "data_eval = pd.concat([file_names, data_eval], axis=1) # объединение оценённых данных с названиями файлов\n",
        "data_eval.to_csv('eval_out.csv', sep=';', index=False)"
      ],
      "metadata": {
        "id": "ntxlsq7yNC-g"
      },
      "execution_count": 12,
      "outputs": []
    }
  ]
}