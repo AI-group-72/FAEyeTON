{
 "cells": [
  {
   "cell_type": "markdown",
   "metadata": {
    "id": "63sHH_S5DJoc"
   },
   "source": [
    "Установка библиотеки"
   ]
  },
  {
   "cell_type": "code",
   "execution_count": 4,
   "metadata": {
    "collapsed": true,
    "id": "k7ye8hjmCtBZ",
    "jupyter": {
     "outputs_hidden": true
    },
    "scrolled": true
   },
   "outputs": [
    {
     "name": "stdout",
     "output_type": "stream",
     "text": [
      "Requirement already satisfied: eyetrackfatigue in c:\\users\\anton\\appdata\\local\\programs\\python\\python312\\lib\\site-packages (1.0.13)\n",
      "Requirement already satisfied: pandas in c:\\users\\anton\\appdata\\local\\programs\\python\\python312\\lib\\site-packages (from eyetrackfatigue) (2.2.1)\n",
      "Requirement already satisfied: openpyxl in c:\\users\\anton\\appdata\\local\\programs\\python\\python312\\lib\\site-packages (from eyetrackfatigue) (3.1.2)\n",
      "Requirement already satisfied: scikit-learn in c:\\users\\anton\\appdata\\local\\programs\\python\\python312\\lib\\site-packages (from eyetrackfatigue) (1.4.1.post1)\n",
      "Requirement already satisfied: numpy in c:\\users\\anton\\appdata\\local\\programs\\python\\python312\\lib\\site-packages (from eyetrackfatigue) (1.26.4)\n",
      "Requirement already satisfied: PyQt6 in c:\\users\\anton\\appdata\\local\\programs\\python\\python312\\lib\\site-packages (from eyetrackfatigue) (6.6.1)\n",
      "Requirement already satisfied: opencv-python in c:\\users\\anton\\appdata\\local\\programs\\python\\python312\\lib\\site-packages (from eyetrackfatigue) (4.9.0.80)\n",
      "Requirement already satisfied: joblib in c:\\users\\anton\\appdata\\local\\programs\\python\\python312\\lib\\site-packages (from eyetrackfatigue) (1.3.2)\n",
      "Requirement already satisfied: et-xmlfile in c:\\users\\anton\\appdata\\local\\programs\\python\\python312\\lib\\site-packages (from openpyxl->eyetrackfatigue) (1.1.0)\n",
      "Requirement already satisfied: python-dateutil>=2.8.2 in c:\\users\\anton\\appdata\\local\\programs\\python\\python312\\lib\\site-packages (from pandas->eyetrackfatigue) (2.9.0.post0)\n",
      "Requirement already satisfied: pytz>=2020.1 in c:\\users\\anton\\appdata\\local\\programs\\python\\python312\\lib\\site-packages (from pandas->eyetrackfatigue) (2024.1)\n",
      "Requirement already satisfied: tzdata>=2022.7 in c:\\users\\anton\\appdata\\local\\programs\\python\\python312\\lib\\site-packages (from pandas->eyetrackfatigue) (2024.1)\n",
      "Requirement already satisfied: PyQt6-sip<14,>=13.6 in c:\\users\\anton\\appdata\\local\\programs\\python\\python312\\lib\\site-packages (from PyQt6->eyetrackfatigue) (13.6.0)\n",
      "Requirement already satisfied: PyQt6-Qt6>=6.6.0 in c:\\users\\anton\\appdata\\local\\programs\\python\\python312\\lib\\site-packages (from PyQt6->eyetrackfatigue) (6.6.2)\n",
      "Requirement already satisfied: scipy>=1.6.0 in c:\\users\\anton\\appdata\\local\\programs\\python\\python312\\lib\\site-packages (from scikit-learn->eyetrackfatigue) (1.12.0)\n",
      "Requirement already satisfied: threadpoolctl>=2.0.0 in c:\\users\\anton\\appdata\\local\\programs\\python\\python312\\lib\\site-packages (from scikit-learn->eyetrackfatigue) (3.4.0)\n",
      "Requirement already satisfied: six>=1.5 in c:\\users\\anton\\appdata\\local\\programs\\python\\python312\\lib\\site-packages (from python-dateutil>=2.8.2->pandas->eyetrackfatigue) (1.16.0)\n"
     ]
    },
    {
     "name": "stderr",
     "output_type": "stream",
     "text": [
      "\n",
      "[notice] A new release of pip is available: 23.3.2 -> 24.0\n",
      "[notice] To update, run: python.exe -m pip install --upgrade pip\n"
     ]
    }
   ],
   "source": [
    "!pip install eyetrackfatigue\n",
    "#!pip install --upgrade --force-reinstall eyetrackfatigue"
   ]
  },
  {
   "cell_type": "markdown",
   "metadata": {
    "id": "51RZ9q66RwvA"
   },
   "source": [
    "Работа с библиотекой\n",
    "\n",
    "Сценарий первый: обработка входных данных, полученных от окулографа.\n"
   ]
  },
  {
   "cell_type": "code",
   "execution_count": 5,
   "metadata": {
    "colab": {
     "base_uri": "https://localhost:8080/"
    },
    "id": "P54Nz7rLRzZq",
    "outputId": "d8150b0e-9ad3-410e-8036-5070761ad05a"
   },
   "outputs": [
    {
     "name": "stdout",
     "output_type": "stream",
     "text": [
      "Time column: 0 X column: 3 Y column: 4\n",
      "parse...\n",
      "marking fixations...\n",
      "cleaning...\n",
      "Pong = 3098 False Fix = 117\n",
      "composing...\n",
      "computing metrics...\n",
      "fixations...\n",
      "saccades...\n",
      "calculating complete\n",
      "csv file... test1_output.csv\n"
     ]
    }
   ],
   "source": [
    "# подключение необходимых элементов библиотеки\n",
    "from EyeTrackFatigue.Input import read_csv_file\n",
    "from EyeTrackFatigue.Analise.ParsedData import ParsedData\n",
    "\n",
    "section = read_csv_file('P5-23-01-25-crt1-morning.csv') # считывание файла с сырыми данными\n",
    "# тестовые файлы расположенны в репозитории:\n",
    "# выбранный файл необходимо разместить в среде выполнения\n",
    "# https://github.com/AI-group-72/FAEyeTON/tree/main/TestData\n",
    "metrics = ParsedData()\n",
    "metrics.parse(section, 2, 1.0) # разметка данных, второй аргумент - 2 - метод по абсолютному расстоянию, размер области фиксации - 1.0\n",
    "# 0 - по скорости, 1 - по радиусу области фиксации\n",
    "metrics.calc_metrics() # рассчёт характеристик\n",
    "metrics.to_csv('P5-23-01-25-crt1-morning', 'test1_output.csv') # вывод характеристик (название записи, название файла)"
   ]
  },
  {
   "cell_type": "markdown",
   "metadata": {
    "id": "Or-psJuFNhBj"
   },
   "source": [
    "Работа с библиотекой\n",
    "\n",
    "Сценарий второй: загрузка ранее обученных моделей, оценка данных"
   ]
  },
  {
   "cell_type": "code",
   "execution_count": 7,
   "metadata": {
    "id": "ntxlsq7yNC-g"
   },
   "outputs": [
    {
     "name": "stdout",
     "output_type": "stream",
     "text": [
      "sss\n"
     ]
    }
   ],
   "source": [
    "import pandas as pd\n",
    "# подключение необходимых элементов библиотеки\n",
    "from EyeTrackFatigue.Evaluate.HybridEval import HybridEval\n",
    "# загрузка данных - взят тестовый пример заранее посчитанных численных характеристик с репозитория\n",
    "# файл необходимо разместить в среде выполнения\n",
    "# https://github.com/AI-group-72/FAEyeTON/tree/main/TestData\n",
    "data = pd.read_csv('dist_1.0.csv', delimiter=';')\n",
    "data.drop(columns=['AU_cat'], inplace=True) # отделение выставленной оценки утомления\n",
    "file_names = data.pop('File') # выделение наименований файлов\n",
    "data.dropna()\n",
    "data = (data - data.mean())/data.std() # нормализация данных\n",
    "\n",
    "model = HybridEval()\n",
    "\n",
    "# обучение моделей (с сохранением)\n",
    "# model.edu(train_X, train_Y, test_X, test_Y, ['Basic', 'MLP', 'RFC', 'DCT']) # 'MLP', 'RFC', 'DCT'\n",
    "# загрузка уже обученных моделей, по названию\n",
    "# файлы с обученными моделями необходимо разместить в среде выполнения, в данном случае взяты из репозитория\n",
    "model.load(['Basic', 'MLP' ]) # выбранны модели Basic -> алгоритмическая оценки и MLP - многослойный перцептрон\n",
    "\n",
    "# оценка точности моделей\n",
    "# print(model.eval(test_X, test_Y))\n",
    "# оценка данных\n",
    "_eval = model.evaluate(data)\n",
    "data_eval = pd.DataFrame({'Eval' : _eval})\n",
    "data_eval = pd.concat([file_names, data_eval], axis=1) # объединение оценённых данных с названиями файлов\n",
    "data_eval.to_csv('eval_out.csv', sep=';', index=False)"
   ]
  },
  {
   "cell_type": "markdown",
   "metadata": {
    "id": "Or-psJuFNhBj"
   },
   "source": [
    "Работа с библиотекой\n",
    "\n",
    "Сценарий третий: обработка видео файла, и оценка полученных данных"
   ]
  },
  {
   "cell_type": "code",
   "execution_count": 8,
   "metadata": {
    "scrolled": true
   },
   "outputs": [
    {
     "name": "stdout",
     "output_type": "stream",
     "text": [
      "Time column: 0 X column: 3 Y column: 4\n",
      "parse...\n",
      "marking fixations...\n",
      "cleaning...\n",
      "Pong = 2 False Fix = 13\n",
      "composing...\n",
      "computing metrics...\n",
      "fixations...\n",
      "saccades...\n",
      "calculating complete\n",
      "csv file... test2_output.csv\n",
      "sss\n"
     ]
    }
   ],
   "source": [
    "from EyeTrackFatigue.Meta.videoProcessorAlpha import SceneProcessor\n",
    "# Пример использования\n",
    "# файл необходимо разместить в среде выполнения\n",
    "# тестовый файл взят из репозитория https://github.com/AI-group-72/FAEyeTON/tree/main/TestData\n",
    "inputVideoPath = \"video_test.avi\"\n",
    "outputPath = inputVideoPath + '+alpha.csv'\n",
    "\n",
    "v = SceneProcessor(doLogging=True)\n",
    "v.EyetrackerHorizontalFOV = 82  # угол обзора камеры сцены айтрекера. Обычно есть в паспорте модели.\n",
    "v.LoadVideo(inputVideoPath)\n",
    "v.DoProcessing(5)  # рекомендуемое значение 1\n",
    "v.DoPostprocessing(5)  # рекомендуемое значение 1. Выше - для сильно зашумлённых данных.\n",
    "v.SaveToCSV(outputPath)\n",
    "# Полученные из видео данные записанны в файл\n",
    "\n",
    "from EyeTrackFatigue.Input import read_csv_file\n",
    "from EyeTrackFatigue.Analise.ParsedData import ParsedData\n",
    "section = read_csv_file(outputPath) # считывание данные, полученные из видео\n",
    "metrics = ParsedData()\n",
    "metrics.parse(section, 2, 1.0) # разметка данных\n",
    "metrics.calc_metrics() # рассчёт характеристик\n",
    "metrics.to_csv('video_data', 'test2_output.csv') # вывод характеристик\n",
    "\n",
    "import pandas as pd\n",
    "# подключение необходимых элементов библиотеки\n",
    "from EyeTrackFatigue.Evaluate.HybridEval import HybridEval\n",
    "data = pd.read_csv('test2_output.csv', delimiter=';')\n",
    "file_names = data.pop('File') # выделение наименований файлов\n",
    "\n",
    "model = HybridEval()\n",
    "# загрузка уже обученных моделей, по названию\n",
    "model.load(['Basic', 'MLP' ]) # выбранны модели Basic -> алгоритмическая оценки и MLP - многослойный перцептрон\n",
    "# оценка данных\n",
    "_eval = model.evaluate(data)\n",
    "data_eval = pd.DataFrame({'Eval' : _eval})\n",
    "data_eval = pd.concat([file_names, data_eval], axis=1) # объединение оценённых данных с названиями файлов\n",
    "data_eval.to_csv('eval_out.csv', sep=';', index=False)"
   ]
  }
 ],
 "metadata": {
  "colab": {
   "provenance": []
  },
  "kernelspec": {
   "display_name": "Python 3 (ipykernel)",
   "language": "python",
   "name": "python3"
  },
  "language_info": {
   "codemirror_mode": {
    "name": "ipython",
    "version": 3
   },
   "file_extension": ".py",
   "mimetype": "text/x-python",
   "name": "python",
   "nbconvert_exporter": "python",
   "pygments_lexer": "ipython3",
   "version": "3.12.0"
  }
 },
 "nbformat": 4,
 "nbformat_minor": 4
}
